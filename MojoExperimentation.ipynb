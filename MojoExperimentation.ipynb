def GreaterValue (a,b):
    if a > b:
        return a 
    if b > a:
        return b
